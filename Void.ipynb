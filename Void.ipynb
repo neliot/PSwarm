{
 "cells": [
  {
   "source": [
    "<H2>Void removal comparision using Basic <code>Model1</code> (Perimeter COmpression) & <code>Model7</code> (Gap removal)</H2>\n",
    "It is important that an experiment has been ran (<code>Model=1</code> and <code>Model=7</code>) in the <code>application.properties</code>) file with <code>LoggingP=true</code> in the <code>properties</code> files (<code>Model1.properties</code> and <code>Model7.properties</code>). Once ran the <code>P-1-p.csv</code> and <code>P-7-p.csv</code> files need to be copied to the <code>./csv/Compare/</code> directory before running this notebook.\n"
   ],
   "cell_type": "markdown",
   "metadata": {}
  },
  {
   "cell_type": "code",
   "execution_count": 4,
   "metadata": {},
   "outputs": [],
   "source": [
    "import pandas as pd\n",
    "from pandas import DataFrame, read_csv\n",
    "import matplotlib.pyplot as plt\n",
    "pd.set_option('display.max_columns', 500)\n",
    "pd.set_option('display.width', 120)\n",
    "%matplotlib inline"
   ]
  },
  {
   "cell_type": "code",
   "execution_count": 5,
   "metadata": {},
   "outputs": [],
   "source": [
    "# load all particle data from simulator\n",
    "S1 = pd.read_csv('csv/Compare/P-1-p.csv')\n",
    "S2 = pd.read_csv('csv/Compare/P-7-p.csv')"
   ]
  },
  {
   "cell_type": "code",
   "execution_count": 6,
   "metadata": {},
   "outputs": [],
   "source": [
    "group1 = S1[[\"STEP\",\"IMAG\"]].groupby('STEP').mean(0).reset_index()\n",
    "group2 = S2[[\"STEP\",\"IMAG\"]].groupby('STEP').mean(0).reset_index()"
   ]
  },
  {
   "cell_type": "code",
   "execution_count": 10,
   "metadata": {},
   "outputs": [],
   "source": [
    "%matplotlib qt\n",
    "b, = plt.plot(group1.STEP,group1.IMAG,label='Compress')\n",
    "c, = plt.plot(group2.STEP,group2.IMAG,label='Gap')\n",
    "plt.title(\"Inter-agent Aggregated Magnitude\")\n",
    "plt.legend()\n",
    "plt.xlabel(\"Time Step\")\n",
    "plt.ylabel(\"Magnitude\")\n",
    "plt.show()"
   ]
  }
 ],
 "metadata": {
  "kernelspec": {
   "display_name": "Python 3",
   "language": "python",
   "name": "python3"
  },
  "language_info": {
   "codemirror_mode": {
    "name": "ipython",
    "version": 3
   },
   "file_extension": ".py",
   "mimetype": "text/x-python",
   "name": "python",
   "nbconvert_exporter": "python",
   "pygments_lexer": "ipython3",
   "version": "3.7.9-final"
  }
 },
 "nbformat": 4,
 "nbformat_minor": 4
}