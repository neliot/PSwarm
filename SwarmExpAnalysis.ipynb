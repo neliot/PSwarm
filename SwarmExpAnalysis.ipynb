{
 "cells": [
  {
   "cell_type": "markdown",
   "metadata": {},
   "source": [
    "<H1>Paper Experiments Analysis</H1>\n"
   ]
  },
  {
   "cell_type": "code",
   "execution_count": null,
   "metadata": {},
   "outputs": [],
   "source": [
    "import pandas as pd\n",
    "from pandas import DataFrame, read_csv\n",
    "import matplotlib.pyplot as plt\n",
    "#SMALL_SIZE = 8\n",
    "#MEDIUM_SIZE = 10\n",
    "#BIGGER_SIZE = 36\n",
    "#Font sizes modifiers for inclusion in papers. \n",
    "#plt.rc('font', size=BIGGER_SIZE)          # controls default text sizes\n",
    "#plt.rc('axes', titlesize=BIGGER_SIZE)     # fontsize of the axes title\n",
    "#plt.rc('axes', labelsize=BIGGER_SIZE)    # fontsize of the x and y labels\n",
    "#plt.rc('xtick', labelsize=BIGGER_SIZE)    # fontsize of the tick labels\n",
    "#plt.rc('ytick', labelsize=BIGGER_SIZE)    # fontsize of the tick labels\n",
    "#plt.rc('legend', fontsize=BIGGER_SIZE)    # legend fontsize\n",
    "#plt.rc('figure', titlesize=BIGGER_SIZE)  # fontsize of the figure title\n",
    "pd.set_option('display.max_columns', 500)\n",
    "pd.set_option('display.width', 120)\n",
    "%matplotlib inline"
   ]
  },
  {
   "cell_type": "code",
   "execution_count": null,
   "metadata": {},
   "outputs": [],
   "source": [
    "# load all particle data from simulator\n",
    "base = pd.read_csv('csv/base/exp.p.csv')\n",
    "exp1 = pd.read_csv('csv/exp1/exp.p.csv')\n",
    "exp2 = pd.read_csv('csv/exp2/exp.p.csv')\n",
    "exp3 = pd.read_csv('csv/exp3/exp.p.csv')\n",
    "exp4 = pd.read_csv('csv/exp4/exp.p.csv')\n",
    "exp5 = pd.read_csv('csv/exp5/exp.p.csv')\n",
    "exp6 = pd.read_csv('csv/exp6/exp.p.csv')\n",
    "basec = pd.read_csv('csv/base/exp.c.csv')\n",
    "baser = pd.read_csv('csv/base/exp.r.csv')\n",
    "exp1c = pd.read_csv('csv/exp1/exp.c.csv')\n",
    "exp1r = pd.read_csv('csv/exp1/exp.r.csv')\n",
    "exp2c = pd.read_csv('csv/exp2/exp.c.csv')\n",
    "exp2r = pd.read_csv('csv/exp2/exp.r.csv')\n",
    "exp3c = pd.read_csv('csv/exp3/exp.c.csv')\n",
    "exp3r = pd.read_csv('csv/exp3/exp.r.csv')\n",
    "exp4c = pd.read_csv('csv/exp4/exp.c.csv')\n",
    "exp4r = pd.read_csv('csv/exp4/exp.r.csv')\n",
    "exp5c = pd.read_csv('csv/exp5/exp.c.csv')\n",
    "exp5r = pd.read_csv('csv/exp5/exp.r.csv')\n",
    "exp6c = pd.read_csv('csv/exp6/exp.c.csv')\n",
    "exp6r = pd.read_csv('csv/exp6/exp.r.csv')\n",
    "\n"
   ]
  },
  {
   "cell_type": "code",
   "execution_count": null,
   "metadata": {},
   "outputs": [],
   "source": [
    "# generate a DataFrame with perimeter count per step\n",
    "perimbase = base[[\"STEP\",\"PERIM\"]].query(\"PERIM == True\").groupby('STEP').count().reset_index()\n",
    "perimexp1 = exp1[[\"STEP\",\"PERIM\"]].query(\"PERIM == True\").groupby('STEP').count().reset_index()\n",
    "perimexp2 = exp2[[\"STEP\",\"PERIM\"]].query(\"PERIM == True\").groupby('STEP').count().reset_index()\n",
    "perimexp3 = exp3[[\"STEP\",\"PERIM\"]].query(\"PERIM == True\").groupby('STEP').count().reset_index()\n",
    "perimexp4 = exp4[[\"STEP\",\"PERIM\"]].query(\"PERIM == True\").groupby('STEP').count().reset_index()\n",
    "perimexp5 = exp5[[\"STEP\",\"PERIM\"]].query(\"PERIM == True\").groupby('STEP').count().reset_index()\n",
    "perimexp6 = exp6[[\"STEP\",\"PERIM\"]].query(\"PERIM == True\").groupby('STEP').count().reset_index()"
   ]
  },
  {
   "source": [
    "<h1>PERIMETER</h1>"
   ],
   "cell_type": "markdown",
   "metadata": {}
  },
  {
   "cell_type": "code",
   "execution_count": null,
   "metadata": {},
   "outputs": [],
   "source": [
    "%matplotlib inline\n",
    "plt.plot(perimbase.STEP,perimbase.PERIM,label=\"base\")\n",
    "plt.plot(perimexp1.STEP,perimexp1.PERIM,label=\"exp1\")\n",
    "plt.plot(perimexp2.STEP,perimexp2.PERIM,label=\"exp2\")\n",
    "plt.plot(perimexp3.STEP,perimexp3.PERIM,label=\"exp3\")\n",
    "plt.plot(perimexp4.STEP,perimexp4.PERIM,label=\"exp4\")\n",
    "plt.plot(perimexp5.STEP,perimexp5.PERIM,label=\"exp5\")\n",
    "plt.plot(perimexp6.STEP,perimexp6.PERIM,label=\"exp6\")\n",
    "plt.title(\"Perimeter Agents\")\n",
    "plt.legend()\n",
    "plt.xlabel(\"Time Step\")\n",
    "plt.ylabel(\"Count\")\n",
    "plt.show()"
   ]
  },
  {
   "source": [
    "<h1>AGGREGATED MAGNITUDE DATA</h1>"
   ],
   "cell_type": "markdown",
   "metadata": {}
  },
  {
   "cell_type": "code",
   "execution_count": null,
   "metadata": {},
   "outputs": [],
   "source": [
    "basemean = base[[\"STEP\",\"IMAG\"]].groupby('STEP').mean(0).reset_index()\n",
    "basestd = base[[\"STEP\",\"IMAG\"]].groupby('STEP').std(0).reset_index()\n",
    "exp1mean = exp1[[\"STEP\",\"IMAG\"]].groupby('STEP').mean(0).reset_index()\n",
    "exp1std = exp1[[\"STEP\",\"IMAG\"]].groupby('STEP').std(0).reset_index()\n",
    "exp2mean = exp2[[\"STEP\",\"IMAG\"]].groupby('STEP').mean(0).reset_index()\n",
    "exp2std = exp2[[\"STEP\",\"IMAG\"]].groupby('STEP').std(0).reset_index()\n",
    "exp3mean = exp3[[\"STEP\",\"IMAG\"]].groupby('STEP').mean(0).reset_index()\n",
    "exp3std = exp3[[\"STEP\",\"IMAG\"]].groupby('STEP').std(0).reset_index()\n",
    "exp4mean = exp4[[\"STEP\",\"IMAG\"]].groupby('STEP').mean(0).reset_index()\n",
    "exp4std = exp4[[\"STEP\",\"IMAG\"]].groupby('STEP').std(0).reset_index()\n",
    "exp5mean = exp5[[\"STEP\",\"IMAG\"]].groupby('STEP').mean(0).reset_index()\n",
    "exp5std = exp5[[\"STEP\",\"IMAG\"]].groupby('STEP').std(0).reset_index()\n",
    "exp6mean = exp6[[\"STEP\",\"IMAG\"]].groupby('STEP').mean(0).reset_index()\n",
    "exp6std = exp6[[\"STEP\",\"IMAG\"]].groupby('STEP').std(0).reset_index()\n",
    "\n"
   ]
  },
  {
   "cell_type": "code",
   "execution_count": null,
   "metadata": {},
   "outputs": [],
   "source": [
    "%matplotlib inline\n",
    "plt.plot(basemean.STEP,basemean.IMAG,label='base')\n",
    "#plt.plot(exp1mean.STEP,exp1mean.IMAG,label='exp1')\n",
    "plt.plot(exp2mean.STEP,exp2mean.IMAG,label='exp2')\n",
    "#plt.plot(exp3mean.STEP,exp3mean.IMAG,label='exp3')\n",
    "#plt.plot(exp4mean.STEP,exp4mean.IMAG,label='exp4')\n",
    "#plt.plot(exp5mean.STEP,exp5mean.IMAG,label='exp5')\n",
    "#plt.plot(exp6mean.STEP,exp6mean.IMAG,label='exp6')\n",
    "plt.title(\"Inter-agent Aggregated Magnitude\")\n",
    "plt.legend()\n",
    "plt.xlabel(\"Time Step\")\n",
    "plt.ylabel(\"Magnitude\")\n",
    "plt.show()"
   ]
  },
  {
   "cell_type": "code",
   "execution_count": null,
   "metadata": {},
   "outputs": [],
   "source": [
    "plt.errorbar(basemean.STEP,basemean.IMAG,basestd.IMAG,label='base',ecolor='red',color='black')\n",
    "plt.errorbar(exp1mean.STEP,exp1mean.IMAG,exp1std.IMAG,label='exp1',ecolor='green',color='yellow')\n",
    "plt.title(\"Inter-agent Aggregated Magnitude\")\n",
    "plt.legend()\n",
    "plt.xlabel(\"Time Step\")\n",
    "plt.ylabel(\"Magnitude\")\n",
    "plt.show()"
   ]
  },
  {
   "source": [
    "<h1>COHESION</h1>"
   ],
   "cell_type": "markdown",
   "metadata": {}
  },
  {
   "cell_type": "code",
   "execution_count": null,
   "metadata": {},
   "outputs": [],
   "source": [
    "basecmean = basec[[\"STEP\",\"MAG\"]].groupby('STEP').mean(0).reset_index()\n",
    "basecstd = basec[[\"STEP\",\"MAG\"]].groupby('STEP').std(0).reset_index()\n",
    "exp1cmean = exp1c[[\"STEP\",\"MAG\"]].groupby('STEP').mean(0).reset_index()\n",
    "exp1cstd = exp1c[[\"STEP\",\"MAG\"]].groupby('STEP').std(0).reset_index()\n",
    "exp2cmean = exp2c[[\"STEP\",\"MAG\"]].groupby('STEP').mean(0).reset_index()\n",
    "exp2cstd = exp2c[[\"STEP\",\"MAG\"]].groupby('STEP').std(0).reset_index()"
   ]
  },
  {
   "cell_type": "code",
   "execution_count": null,
   "metadata": {},
   "outputs": [],
   "source": [
    "%matplotlib inline\n",
    "plt.plot(basecmean.STEP,basecmean.MAG,label='base')\n",
    "plt.plot(exp1cmean.STEP,exp1cmean.MAG,label='exp1')\n",
    "plt.plot(exp2cmean.STEP,exp2cmean.MAG,label='exp2')\n",
    "plt.title(\"Inter-agent Cohesion Magnitude\")\n",
    "plt.legend()\n",
    "plt.xlabel(\"Time Step\")\n",
    "plt.ylabel(\"Magnitude\")\n",
    "plt.show()"
   ]
  },
  {
   "cell_type": "code",
   "execution_count": null,
   "metadata": {},
   "outputs": [],
   "source": [
    "%matplotlib inline\n",
    "plt.errorbar(exp2cmean.STEP,exp2cmean.MAG,exp2cstd.MAG,label='exp2',ecolor='red',color='black')\n",
    "plt.errorbar(exp1cmean.STEP,exp1cmean.MAG,exp1cstd.MAG,label='exp1',ecolor='blue',color='grey')\n",
    "plt.title(\"Inter-agent Cohesion Magnitude\")\n",
    "plt.legend()\n",
    "plt.xlabel(\"Time Step\")\n",
    "plt.ylabel(\"Magnitude\")\n",
    "plt.show()"
   ]
  },
  {
   "source": [
    "<h1>REPULSION</h1>"
   ],
   "cell_type": "markdown",
   "metadata": {}
  },
  {
   "cell_type": "code",
   "execution_count": null,
   "metadata": {},
   "outputs": [],
   "source": [
    "basermean = baser[[\"STEP\",\"MAG\"]].groupby('STEP').mean(0).reset_index()\n",
    "baserstd = baser[[\"STEP\",\"MAG\"]].groupby('STEP').std(0).reset_index()\n",
    "exp1rmean = exp1r[[\"STEP\",\"MAG\"]].groupby('STEP').mean(0).reset_index()\n",
    "exp1rstd = exp1r[[\"STEP\",\"MAG\"]].groupby('STEP').std(0).reset_index()\n",
    "exp2rmean = exp2r[[\"STEP\",\"MAG\"]].groupby('STEP').mean(0).reset_index()\n",
    "exp2rstd = exp2r[[\"STEP\",\"MAG\"]].groupby('STEP').std(0).reset_index()"
   ]
  },
  {
   "cell_type": "code",
   "execution_count": null,
   "metadata": {},
   "outputs": [],
   "source": [
    "%matplotlib inline\n",
    "plt.plot(exp1r.STEP,exp1r.MAG,label='exp1')\n",
    "plt.plot(exp2r.STEP,exp2r.MAG,label='exp2')\n",
    "plt.plot(exp3r.STEP,exp3r.MAG,label='exp3')\n",
    "plt.title(\"Inter-agent Repulsion Magnitude\")\n",
    "plt.legend()\n",
    "plt.xlabel(\"Time Step\")\n",
    "plt.ylabel(\"Magnitude\")\n",
    "plt.show()"
   ]
  },
  {
   "cell_type": "code",
   "execution_count": null,
   "metadata": {},
   "outputs": [],
   "source": [
    "%matplotlib inline\n",
    "plt.errorbar(exp1rmean.STEP,exp1rmean.MAG,exp1rstd.MAG,label='exp1',ecolor='red',color='black')\n",
    "plt.errorbar(exp2rmean.STEP,exp2rmean.MAG,exp2rstd.MAG,label='exp1',ecolor='blue',color='grey')\n",
    "plt.title(\"Inter-agent Repulsion Magnitude\")\n",
    "plt.legend()\n",
    "plt.xlabel(\"Time Step\")\n",
    "plt.ylabel(\"Magnitude\")\n",
    "plt.show()"
   ]
  },
  {
   "source": [
    "<h1>DISTANCE</h1>"
   ],
   "cell_type": "markdown",
   "metadata": {}
  },
  {
   "cell_type": "code",
   "execution_count": null,
   "metadata": {},
   "outputs": [],
   "source": [
    "#dist = exp1c[[\"STEP\",\"DIST\"]].groupby('STEP').mean(0).reset_index()\n",
    "#dev = exp1c[[\"STEP\",\"DIST\"]].groupby('STEP').std(0).reset_index()\n",
    "exp1dmean = exp1c[[\"STEP\",\"DIST\"]].groupby('STEP').mean(0).reset_index()\n",
    "exp1dstd = exp1c[[\"STEP\",\"DIST\"]].groupby('STEP').std(0).reset_index()\n",
    "exp2dmean = exp2c[[\"STEP\",\"DIST\"]].groupby('STEP').mean(0).reset_index()\n",
    "exp2dstd = exp2c[[\"STEP\",\"DIST\"]].groupby('STEP').std(0).reset_index()"
   ]
  },
  {
   "cell_type": "code",
   "execution_count": null,
   "metadata": {},
   "outputs": [],
   "source": [
    "%matplotlib inline\n",
    "plt.plot(exp1dmean.STEP,exp1dmean.DIST,label='exp1')\n",
    "plt.plot(exp2dmean.STEP,exp2dmean.DIST,label='exp2')\n",
    "plt.title(\"Inter-agent Distance\")\n",
    "plt.xlabel(\"Time Step\")\n",
    "plt.legend()\n",
    "plt.ylabel(\"Distance\")\n",
    "plt.show()"
   ]
  },
  {
   "cell_type": "code",
   "execution_count": null,
   "metadata": {},
   "outputs": [],
   "source": [
    "%matplotlib inline\n",
    "plt.errorbar(exp1dmean.STEP,exp1dmean.DIST,exp1dstd.DIST,label='Distance',ecolor='red',color='black')\n",
    "plt.errorbar(exp2dmean.STEP,exp2dmean.DIST,exp2dstd.DIST,label='Distance',ecolor='blue',color='grey')\n",
    "plt.legend()\n",
    "plt.title(\"Inter-agent Distance\")\n",
    "plt.xlabel(\"Time Step\")\n",
    "plt.ylabel(\"Distance\")\n",
    "plt.show()"
   ]
  },
  {
   "cell_type": "code",
   "execution_count": null,
   "metadata": {},
   "outputs": [],
   "source": []
  }
 ],
 "metadata": {
  "kernelspec": {
   "display_name": "Python 3",
   "language": "python",
   "name": "python3"
  },
  "language_info": {
   "codemirror_mode": {
    "name": "ipython",
    "version": 3
   },
   "file_extension": ".py",
   "mimetype": "text/x-python",
   "name": "python",
   "nbconvert_exporter": "python",
   "pygments_lexer": "ipython3",
   "version": "3.7.9-final"
  }
 },
 "nbformat": 4,
 "nbformat_minor": 4
}