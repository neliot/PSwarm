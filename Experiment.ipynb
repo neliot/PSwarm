{
 "cells": [
  {
   "cell_type": "markdown",
   "metadata": {},
   "source": [
    "<H1>DRAW SWARM ANALYSIS</H1>"
   ]
  },
  {
   "cell_type": "code",
   "execution_count": 1,
   "metadata": {},
   "outputs": [],
   "source": [
    "import pandas as pd\n",
    "import numpy as np\n",
    "import json\n",
    "from mpl_toolkits.mplot3d import Axes3D\n",
    "from matplotlib import cm\n",
    "from pandas import DataFrame, read_csv\n",
    "import matplotlib.pyplot as plt\n",
    "#import seaborn as sns\n",
    "#sns.set()\n",
    "pd.set_option('display.max_columns', 500)\n",
    "pd.set_option('display.width', 120)\n",
    "SMALL_SIZE = 8\n",
    "MEDIUM_SIZE = 10\n",
    "#BIGGER_SIZE = 24\n",
    "def graphic():\n",
    "    BIGGER_SIZE = 16\n",
    "    #Font sizes modifiers for inclusion in papers. \n",
    "    plt.rc('font', size=BIGGER_SIZE)          # controls default text sizes\n",
    "    plt.rc('axes', titlesize=BIGGER_SIZE)     # fontsize of the axes title\n",
    "    plt.rc('axes', labelsize=BIGGER_SIZE)     # fontsize of the x and y labels\n",
    "    plt.rc('xtick', labelsize=BIGGER_SIZE)    # fontsize of the tick labels\n",
    "    plt.rc('ytick', labelsize=BIGGER_SIZE)    # fontsize of the tick labels\n",
    "    plt.rc('legend', fontsize=BIGGER_SIZE)    # legend fontsize\n",
    "    plt.rc('figure', titlesize=BIGGER_SIZE)   # fontsize of the figure title\n",
    "def graph():\n",
    "    BIGGER_SIZE = 24\n",
    "    #Font sizes modifiers for inclusion in papers. \n",
    "    plt.rc('font', size=BIGGER_SIZE)          # controls default text sizes\n",
    "    plt.rc('axes', titlesize=BIGGER_SIZE)     # fontsize of the axes title\n",
    "    plt.rc('axes', labelsize=BIGGER_SIZE)     # fontsize of the x and y labels\n",
    "    plt.rc('xtick', labelsize=BIGGER_SIZE)    # fontsize of the tick labels\n",
    "    plt.rc('ytick', labelsize=BIGGER_SIZE)    # fontsize of the tick labels\n",
    "    plt.rc('legend', fontsize=BIGGER_SIZE)    # legend fontsize\n",
    "    plt.rc('figure', titlesize=BIGGER_SIZE)   # fontsize of the figure title\n",
    "\n"
   ]
  },
  {
   "cell_type": "markdown",
   "metadata": {},
   "source": [
    "<h2>LOAD DATA</h2>"
   ]
  },
  {
   "cell_type": "code",
   "execution_count": 2,
   "metadata": {},
   "outputs": [],
   "source": [
    "with open (\"./data/csv/json.txt\", \"r\") as jsonfilename:\n",
    "    name = jsonfilename.readlines()\n",
    "with open(\"./data/json/%s\"%(name[0])) as json_file:\n",
    "    data = json.load(json_file)\n",
    "jsonrb = data['params']['rb']\n",
    "jsonkr = data['params']['kr']\n",
    "jsonkc = data['params']['kc']\n",
    "jsonkg = data['params']['kg']\n",
    "jsonrgf = data['params']['rgf']\n",
    "jsoncb = data['params']['cb']\n",
    "jsonA = data['params']['A']\n",
    "jsonT = data['params']['T']\n",
    "jsonspeed = data['params']['speed']\n",
    "S=pd.read_csv('./data/csv/exp.p.csv')\n",
    "C=pd.read_csv('./data/csv/exp.c.csv')\n",
    "R=pd.read_csv('./data/csv/exp.r.csv')"
   ]
  },
  {
   "cell_type": "markdown",
   "metadata": {},
   "source": [
    "<h2>EXTRACT STEP</h2>\n"
   ]
  },
  {
   "cell_type": "code",
   "execution_count": 3,
   "metadata": {},
   "outputs": [],
   "source": [
    "#######################\n",
    "# MAGNITUDE METRIC DATA\n",
    "#######################\n",
    "# GET EVERY COHESION/REPULSION INTERACTION\n",
    "METRICC=C[[\"STEP\",\"PID\",\"NID\",\"MAG\"]]\n",
    "METRICR=R[[\"STEP\",\"PID\",\"NID\",\"MAG\"]]\n",
    "# MERGE COHESION AND REPULSION INTO ONE DATAFRAME\n",
    "METRICRES=pd.merge(METRICC,METRICR,how='left',on=[\"STEP\",\"PID\",\"NID\"],suffixes=(\"_C\",\"_R\")).fillna(0)\n",
    "# CALCULATE RESULTANT MAGNITUDE FOR EACH RELATIONSHIP (+/- CATERED FOR WITH THIS)\n",
    "METRICRES[\"RES\"] = METRICRES[\"MAG_C\"] - METRICRES[\"MAG_R\"]\n",
    "# AGGREGATE THE RESULT BY STEP\n",
    "METRICMEAN=METRICRES[['STEP','RES']].groupby('STEP',as_index=False).agg(['sum'])\n",
    "METRICMEAN.columns = METRICMEAN.columns.droplevel(0)\n",
    "METRICMEAN=METRICMEAN.reset_index()\n",
    "# COUNT THE NUMBER OF COHESION AND REPULSION RELATIONSHIPS\n",
    "METRICCC=METRICC[['STEP']].groupby('STEP').size().reset_index(name='CCOUNT')\n",
    "METRICRC=METRICR[['STEP']].groupby('STEP').size().reset_index(name='RCOUNT')\n",
    "# MERGE THE COUNTS WITH THE MEAN\n",
    "METRICMEAN=pd.merge(METRICMEAN,METRICCC,how='left',on=[\"STEP\"]).fillna(0)\n",
    "METRICMEAN=pd.merge(METRICMEAN,METRICRC,how='left',on=[\"STEP\"]).fillna(0)\n",
    "# CALCULATE MEAN\n",
    "METRICMEAN[\"MEAN\"] = METRICMEAN[\"sum\"] / (METRICMEAN[\"CCOUNT\"] + METRICMEAN[\"RCOUNT\"])\n",
    "# MERGE MEAN INTO RES \n",
    "METRICRES=pd.merge(METRICRES,METRICMEAN,how=\"left\",on=[\"STEP\"]).fillna(0)\n",
    "METRICRES=METRICRES[[\"STEP\",\"RES\",\"MEAN\"]]\n",
    "# CALCULATE DIFF2\n",
    "METRICRES[\"DIFF2\"] = np.square(METRICRES[\"RES\"] - METRICRES[\"MEAN\"]) \n",
    "METRICRES=METRICRES[[\"STEP\",\"DIFF2\"]]\n",
    "# AGGREGATE\n",
    "METRICRES=METRICRES[['STEP','DIFF2']].groupby('STEP',as_index=False).agg(['sum'])\n",
    "METRICRES.columns = METRICRES.columns.droplevel(0)\n",
    "METRICRES=METRICRES.reset_index()\n",
    "# MERGE COHESION AND REPULSION INTO DATAFRAME\n",
    "METRICRES=pd.merge(METRICRES,METRICCC,how='left',on=[\"STEP\"]).fillna(0)\n",
    "METRICRES=pd.merge(METRICRES,METRICRC,how='left',on=[\"STEP\"]).fillna(0)\n",
    "# CALCULATE NUMBER OF INTERACTIONS\n",
    "METRICRES[\"N\"] = (METRICRES[\"CCOUNT\"] + METRICRES[\"RCOUNT\"])\n",
    "# CALCULATE STD\n",
    "METRICRES[\"STD\"] = np.sqrt(METRICRES[\"sum\"] / METRICRES[\"N\"])\n",
    "# CREATE METRIC DATAFRAME WITH MEAN AND STD\n",
    "METRIC=pd.merge(METRICRES[[\"STEP\",\"STD\"]],METRICMEAN[[\"STEP\",\"MEAN\"]],how=\"left\",on=[\"STEP\"])"
   ]
  },
  {
   "cell_type": "markdown",
   "metadata": {},
   "source": [
    "Set <code>step</code> for position in simulation<br>\n",
    "Set <code>id</code> for individual agent of interest."
   ]
  },
  {
   "cell_type": "code",
   "execution_count": 4,
   "metadata": {},
   "outputs": [],
   "source": [
    "#############\n",
    "# INDIVIDUAL AGENT DATA\n",
    "#############\n",
    "step=50\n",
    "id=100\n",
    "\n",
    "COHESION=C[[\"STEP\",\"PID\",\"PX\",\"PY\",\"NID\",\"NX\",\"NY\",\"PPERIM\",\"NPERIM\",\"MAG\",\"DIST\"]].query(\"STEP==%d\" % step)\n",
    "COHESIONP=COHESION[[\"STEP\",\"PID\",\"PX\",\"PY\",\"NID\",\"NX\",\"NY\",\"PPERIM\",\"NPERIM\",\"MAG\",\"DIST\"]].query(\"PPERIM==True and NPERIM==True\")\n",
    "COHESIONPI=COHESION[[\"STEP\",\"PID\",\"PX\",\"PY\",\"NID\",\"NX\",\"NY\",\"PPERIM\",\"NPERIM\",\"MAG\",\"DIST\"]].query(\"PPERIM==True and NPERIM==False\")\n",
    "COHESIONIP=COHESION[[\"STEP\",\"PID\",\"PX\",\"PY\",\"NID\",\"NX\",\"NY\",\"PPERIM\",\"NPERIM\",\"MAG\",\"DIST\"]].query(\"PPERIM==False and NPERIM==True\")\n",
    "COHESIONII=COHESION[[\"STEP\",\"PID\",\"PX\",\"PY\",\"NID\",\"NX\",\"NY\",\"PPERIM\",\"NPERIM\",\"MAG\",\"DIST\"]].query(\"PPERIM==False and NPERIM==False\")\n",
    "REPULSION=R[[\"STEP\",\"PID\",\"PX\",\"PY\",\"NID\",\"NX\",\"NY\",\"MAG\"]].query(\"STEP==%d\" % step)\n",
    "\n",
    "AGENTS=S[[\"STEP\",\"ID\",\"X\",\"Y\",\"PERIM\",\"IMAG\"]].query(\"STEP==%d\" % step)\n",
    "CENTROIDX=AGENTS[\"X\"].mean()\n",
    "CENTROIDY=AGENTS[\"Y\"].mean()\n",
    "#AGENTS[\"DISTANCE\"]=np.sqrt((S[\"X\"]-CENTROIDX)**2 + (S[\"Y\"]-CENTROIDY)**2)\n",
    "\n",
    "PAGENTS=AGENTS.query(\"PERIM == True\")\n",
    "PCENTROIDX=PAGENTS[\"X\"].mean()\n",
    "PCENTROIDY=PAGENTS[\"Y\"].mean()\n",
    "\n",
    "AGENTS[\"DISTANCETOP\"]=np.sqrt((AGENTS[\"X\"]-CENTROIDX)**2 + (AGENTS[\"Y\"]-CENTROIDY)**2)\n",
    "AGENTS[\"DISTANCEPTOP\"]=np.sqrt((AGENTS[\"X\"]-PCENTROIDX)**2 + (AGENTS[\"Y\"]-PCENTROIDY)**2)\n",
    "\n",
    "PAGENTS=AGENTS.query(\"PERIM == True\")\n",
    "\n",
    "CENTROIDTOPERIM=PAGENTS[\"DISTANCETOP\"].mean()\n",
    "PCENTROIDTOPERIM=PAGENTS[\"DISTANCEPTOP\"].mean()\n",
    "\n",
    "NAGENTS=AGENTS.query(\"PERIM == False\")\n",
    "AGENT=AGENTS.query(\"ID==%d\" % id)\n",
    "ACOHESION=COHESION.query(\"PID==%d\" % id)\n",
    "ACOHESIONP=ACOHESION.query(\"PPERIM==True and NPERIM==True\")\n",
    "AREPULSION=REPULSION.query(\"PID==%d\" % id)\n",
    "# NEIGHBOURS LINK DATA\n",
    "NEIGHBOURS=ACOHESION[\"NID\"]\n",
    "# NEIGHBOUR LINKS FOR STEP EXCLUDING THE TARGET AGENT \n",
    "STEPCOH=COHESION.query(\"STEP==%d and PID!=%d and NID!=%d\" % (step,id,id))\n",
    "# FILTER NEIGHBOUR STARTING POINTS USING A LIST\n",
    "STARTCOH=STEPCOH[STEPCOH['PID'].isin(NEIGHBOURS)]\n",
    "# FILTER NEIGHBOUR END POINTS USING A LIST\n",
    "NEIGHBOURCOH=STARTCOH[STARTCOH['NID'].isin(NEIGHBOURS)]"
   ]
  },
  {
   "cell_type": "markdown",
   "metadata": {},
   "source": [
    "<h2>SWARM GRAPH</h2><br>\n",
    "FULL SWARM GRAPH"
   ]
  },
  {
   "cell_type": "code",
   "execution_count": 5,
   "metadata": {},
   "outputs": [],
   "source": [
    "%matplotlib qt\n",
    "graphic()\n",
    "ax = plt.gca()\n",
    "ax.cla() # clear things for fresh plot\n",
    "circle1 = plt.Circle((CENTROIDX, CENTROIDY), CENTROIDTOPERIM, color='b', fill=False)\n",
    "circle2 = plt.Circle((PCENTROIDX, PCENTROIDY), PCENTROIDTOPERIM, color='g', fill=False)\n",
    "ax.add_patch(circle1)\n",
    "ax.add_patch(circle2)\n",
    "ax.scatter(NAGENTS[\"X\"],NAGENTS[\"Y\"],s=30,color=\"black\",zorder=2)\n",
    "ax.scatter(PAGENTS[\"X\"],PAGENTS[\"Y\"],s=30,color=\"red\",zorder=2)\n",
    "for i,row in AGENTS.iterrows():\n",
    "    ax.annotate(\"%5d\"%row[\"ID\"],(row[\"X\"],row[\"Y\"]), fontsize=SMALL_SIZE)\n",
    "#for i,row in COHESION.iterrows():\n",
    "#    ax.plot([row[\"PX\"], row[\"NX\"]], [row[\"PY\"], row[\"NY\"]],color=\"grey\",zorder=1)\n",
    "#for i,row in COHESIONP.iterrows():\n",
    "#    ax.plot([row[\"PX\"], row[\"NX\"]], [row[\"PY\"], row[\"NY\"]],color=\"brown\",zorder=1)\n",
    "plt.title('%s\\nrb=%s kr=%s kc=%s\\nT=%s A=%s cb=%s speed=%s kg=%s rgf=%s\\nSwarm at STEP:[%s]'%(name[0],jsonrb,jsonkr,jsonkc,jsonT,jsonA,jsoncb,jsonspeed,jsonkg,jsonrgf,step))\n",
    "plt.grid()\n",
    "plt.gca().set_aspect(\"equal\")\n",
    "#plt.xlim(-20,20)\n",
    "#plt.ylim(-20,20)\n",
    "plt.xlabel(\"X\")\n",
    "plt.ylabel(\"Y\")\n",
    "plt.tight_layout()\n",
    "#plt.show()"
   ]
  },
  {
   "cell_type": "markdown",
   "metadata": {},
   "source": [
    "MODEL GRAPH"
   ]
  },
  {
   "cell_type": "code",
   "execution_count": 6,
   "metadata": {},
   "outputs": [],
   "source": [
    "%matplotlib qt\n",
    "no_bins = 40\n",
    "plt.style.use('classic')\n",
    "plt.title('%s\\nRelationship Distances ($|bb\\'|$)\\nrb=%s kr=%s kc=%s\\nT=%s A=%s cb=%s speed=%s kg=%s rgf=%s\\nSwarm at STEP:[%s]'%(name[0],jsonrb,jsonkr,jsonkc,jsonT,jsonA,jsoncb,jsonspeed,jsonkg,jsonrgf,step))\n",
    "\n",
    "y1,binEdges1=np.histogram(COHESIONII['DIST'],bins=no_bins)\n",
    "y2,binEdges2=np.histogram(COHESIONIP['DIST'],bins=no_bins)\n",
    "y3,binEdges3=np.histogram(COHESIONP['DIST'],bins=no_bins)\n",
    "y4,binEdges4=np.histogram(COHESIONPI['DIST'],bins=no_bins)\n",
    "\n",
    "bincenters1 = 0.5*(binEdges1[1:]+binEdges1[:-1])\n",
    "bincenters2 = 0.5*(binEdges2[1:]+binEdges2[:-1])\n",
    "bincenters3 = 0.5*(binEdges3[1:]+binEdges3[:-1])\n",
    "bincenters4 = 0.5*(binEdges4[1:]+binEdges4[:-1])\n",
    "\n",
    "plt.plot(bincenters1,y1,'k-', linewidth=2, markersize=12, label='II')\n",
    "plt.plot(bincenters2,y2,'g-', linewidth=2, markersize=12, label='IP')\n",
    "plt.plot(bincenters3,y3,'r-', linewidth=2, markersize=12, label='PP')\n",
    "plt.plot(bincenters4,y4,'b-', linewidth=2, markersize=12, label='PI')\n",
    "\n",
    "plt.fill_between(bincenters1,y1, alpha=0.1, color='k')\n",
    "plt.fill_between(bincenters2,y2, alpha=0.1, color='g')\n",
    "plt.fill_between(bincenters3,y3, alpha=0.1, color='r')\n",
    "plt.fill_between(bincenters4,y4, alpha=0.1, color='b')\n",
    "\n",
    "plt.legend()\n",
    "plt.grid()\n",
    "\n",
    "plt.hist(COHESIONII['DIST'], bins = 250, alpha=0.5, edgecolor=\"black\", linewidth=1, label=\"II\")\n",
    "plt.hist(COHESIONIP['DIST'], bins = 250, alpha=0.5, edgecolor=\"black\", linewidth=1, label=\"IP\")\n",
    "plt.hist(COHESIONPI['DIST'], bins = 250, alpha=0.5, edgecolor=\"black\", linewidth=1, label=\"PI\")\n",
    "plt.hist(COHESIONP['DIST'], bins = 250, alpha=0.5, edgecolor=\"black\", linewidth=1, label=\"PP\")\n",
    "\n",
    "plt.ylabel(\"Count\")\n",
    "plt.xlabel(\"Distance (UNITS) (Bins=%s)\"%(no_bins))\n",
    "plt.legend()\n",
    "plt.show()"
   ]
  },
  {
   "cell_type": "code",
   "execution_count": 7,
   "metadata": {},
   "outputs": [],
   "source": [
    "%matplotlib qt\n",
    "no_bins = 40\n",
    "plt.style.use('classic')\n",
    "plt.title('%s\\nRelationship Distances ($|bb\\'|$)\\nrb=%s kr=%s kc=%s\\nT=%s A=%s cb=%s speed=%s kg=%s rgf=%s\\nSwarm at STEP:[%s]'%(name[0],jsonrb,jsonkr,jsonkc,jsonT,jsonA,jsoncb,jsonspeed,jsonkg,jsonrgf,step))\n",
    "\n",
    "plt.hist([COHESIONII['DIST'],COHESIONIP['DIST'],COHESIONPI['DIST'],COHESIONP['DIST']],bins=no_bins,cumulative=True,label=['II','IP','PI','PP'])\n",
    "\n",
    "#y1,binEdges1=np.histogram(COHESIONII['DIST'],bins=no_bins,cumulative=True)\n",
    "#y2,binEdges2=np.histogram(COHESIONIPPI['DIST'],bins=no_bins,cumulative=True)\n",
    "#y3,binEdges3=np.histogram(COHESIONP['DIST'],bins=no_bins,cumulative=True)\n",
    "\n",
    "#bincenters1 = 0.5*(binEdges1[1:]+binEdges1[:-1])\n",
    "#bincenters2 = 0.5*(binEdges2[1:]+binEdges2[:-1])\n",
    "#bincenters3 = 0.5*(binEdges3[1:]+binEdges3[:-1])\n",
    "\n",
    "#plt.plot(bincenters1,y1,'k-', linewidth=2, markersize=12, label='II')\n",
    "#plt.plot(bincenters2,y2,'g-', linewidth=2, markersize=12, label='IPPI')\n",
    "#plt.plot(bincenters3,y3,'r-', linewidth=2, markersize=12, label='PP')\n",
    "\n",
    "#plt.fill_between(bincenters1,y1, alpha=0.1, color='k')\n",
    "#plt.fill_between(bincenters2,y2, alpha=0.1, color='g')\n",
    "#plt.fill_between(bincenters3,y3, alpha=0.1, color='r')\n",
    "\n",
    "plt.legend(loc='center left')\n",
    "plt.grid()\n",
    "\n",
    "#plt.hist(COHESIONII['DIST'], bins = 250, alpha=0.5, edgecolor=\"black\", linewidth=1, label=\"II\")\n",
    "#plt.hist(COHESIONIPPI['DIST'], bins = 250, alpha=0.5, edgecolor=\"black\", linewidth=1, label=\"IPPI\")\n",
    "#plt.hist(COHESIONP['DIST'], bins = 250, alpha=0.5, edgecolor=\"black\", linewidth=1, label=\"PP\")\n",
    "\n",
    "plt.ylabel(\"Count\")\n",
    "plt.xlabel(\"Distance (UNITS) (Bins=%s)\"%(no_bins))\n",
    "plt.show()"
   ]
  },
  {
   "cell_type": "code",
   "execution_count": 8,
   "metadata": {},
   "outputs": [],
   "source": [
    "plt.hist([COHESIONII['DIST'],COHESIONPI['DIST'],COHESIONIP['DIST'],COHESIONP['DIST']], bins=250, histtype='step', label=['II','PI','IP','PP'])\n",
    "##sb.histplot(COHESIONIPPI['DIST'], label='IPPI')\n",
    "#sb.histplot(COHESIONP['DIST'], label='PP')\n",
    "plt.title('%s\\nRelationship Distances ($|bb\\'|$)\\nrb=%s kr=%s kc=%s\\nT=%s A=%s cb=%s speed=%s kg=%s rgf=%s\\nSwarm at STEP:[%s]'%(name[0],jsonrb,jsonkr,jsonkc,jsonT,jsonA,jsoncb,jsonspeed,jsonkg,jsonrgf,step))\n",
    "plt.legend()\n",
    "plt.grid()\n",
    "plt.show()"
   ]
  },
  {
   "cell_type": "code",
   "execution_count": 9,
   "metadata": {},
   "outputs": [],
   "source": [
    "%matplotlib qt\n",
    "graphic()\n",
    "#plt.style.use('classic')\n",
    "plt.title('%s\\nRelationship Intermediate Magnitude\\nrb=%s kr=%s kc=%s\\nT=%s A=%s cb=%s speed=%s kg=%s rgf=%s\\nSwarm at STEP:[%s]'%(name[0],jsonrb,jsonkr,jsonkc,jsonT,jsonA,jsoncb,jsonspeed,jsonkg,jsonrgf,step))\n",
    "plt.hist(AGENTS['IMAG'], bins = 25)\n",
    "plt.ylabel(\"Count (25 Bins)\")\n",
    "plt.xlabel(\"IMAG $|v_c(b) - v_r(b)|$\")\n",
    "#plt.hist(COHESIONIPPI['MAG'], bins = 50, alpha=0.5, label=\"IPPI\")\n",
    "#plt.hist(COHESIONP['MAG'], bins = 50, alpha=0.5, label=\"PP\")\n",
    "#plt.legend()\n",
    "plt.show()"
   ]
  },
  {
   "cell_type": "markdown",
   "metadata": {},
   "source": [
    "REPULSION GRAPH"
   ]
  },
  {
   "cell_type": "code",
   "execution_count": 10,
   "metadata": {},
   "outputs": [],
   "source": [
    "%matplotlib qt\n",
    "for i,row in REPULSION.iterrows():\n",
    "    plt.plot([row[\"PX\"], row[\"NX\"]], [row[\"PY\"], row[\"NY\"]],\"r-\")\n",
    "plt.scatter(AGENTS[\"X\"],AGENTS[\"Y\"],s=100)\n",
    "plt.title(\"Swarm Repulsion at STEP:[%d]\" % step)\n",
    "plt.grid()\n",
    "plt.gca().set_aspect(\"equal\")\n",
    "plt.xlabel(\"X\")\n",
    "plt.ylabel(\"Y\")\n",
    "plt.tight_layout()"
   ]
  },
  {
   "cell_type": "markdown",
   "metadata": {},
   "source": [
    "<H3>INDIVIDUAL AGENT GRAPHS</H3><br>\n",
    "AGENT AND NEIGHBOURS"
   ]
  },
  {
   "cell_type": "code",
   "execution_count": 11,
   "metadata": {},
   "outputs": [],
   "source": [
    "%matplotlib qt\n",
    "plt.scatter(AGENT[\"X\"],AGENT[\"Y\"],s=100,color=\"green\")\n",
    "plt.scatter(ACOHESION[\"NX\"],ACOHESION[\"NY\"],s=100,color=\"green\")\n",
    "for i,row in ACOHESION.iterrows():\n",
    "    plt.annotate(\"%5d\"%row[\"PID\"],(row[\"PX\"],row[\"PY\"]))\n",
    "for i,row in ACOHESION.iterrows():\n",
    "    plt.annotate(\"%5d\"%row[\"NID\"],(row[\"NX\"],row[\"NY\"]))\n",
    "for i,row in ACOHESION.iterrows():\n",
    "    plt.plot([row[\"PX\"], row[\"NX\"]], [row[\"PY\"], row[\"NY\"]],color=\"lightgreen\")\n",
    "for i,row in ACOHESIONP.iterrows():\n",
    "    plt.plot([row[\"PX\"], row[\"NX\"]], [row[\"PY\"], row[\"NY\"]],color=\"darkgreen\")\n",
    "\n",
    "plt.title(\"Single Agent [%d] Swarm Cohesion at STEP:[%d]\" % (id,step))\n",
    "plt.grid()\n",
    "plt.gca().set_aspect(\"equal\")\n",
    "plt.xlabel(\"X\")\n",
    "plt.ylabel(\"Y\")\n",
    "plt.tight_layout()\n",
    "plt.show()"
   ]
  },
  {
   "cell_type": "markdown",
   "metadata": {},
   "source": [
    "AGENT AND NEIGHBOURS WITH NEIGHBOUR LINKS SHOWN"
   ]
  },
  {
   "cell_type": "code",
   "execution_count": 12,
   "metadata": {},
   "outputs": [],
   "source": [
    "%matplotlib qt\n",
    "graphic()\n",
    "plt.scatter(AGENT[\"X\"],AGENT[\"Y\"],s=100,color=\"green\")\n",
    "plt.scatter(ACOHESION[\"NX\"],ACOHESION[\"NY\"],s=100,color=\"green\")\n",
    "for i,row in NEIGHBOURCOH.iterrows():\n",
    "    plt.plot([row[\"PX\"], row[\"NX\"]], [row[\"PY\"], row[\"NY\"]],color=\"black\")\n",
    "for i,row in ACOHESION.iterrows():\n",
    "    plt.annotate(\"%5d\"%row[\"PID\"],(row[\"PX\"],row[\"PY\"]))\n",
    "for i,row in ACOHESION.iterrows():\n",
    "    plt.annotate(\"%5d\"%row[\"NID\"],(row[\"NX\"],row[\"NY\"]))\n",
    "for i,row in ACOHESION.iterrows():\n",
    "    plt.plot([row[\"PX\"], row[\"NX\"]], [row[\"PY\"], row[\"NY\"]],color=\"lightgreen\")\n",
    "for i,row in ACOHESIONP.iterrows():\n",
    "    plt.plot([row[\"PX\"], row[\"NX\"]], [row[\"PY\"], row[\"NY\"]],color=\"darkgreen\")\n",
    "\n",
    "plt.title(\"Single Agent [%d] Swarm Cohesion at STEP:[%d]\" % (id,step))\n",
    "plt.suptitle(\"Showing neighbour links\")\n",
    "plt.grid()\n",
    "plt.gca().set_aspect(\"equal\")\n",
    "plt.xlabel(\"X\")\n",
    "plt.ylabel(\"Y\")\n",
    "plt.tight_layout()\n",
    "plt.show()"
   ]
  },
  {
   "cell_type": "markdown",
   "metadata": {},
   "source": [
    "<H3>FULL SWARM GRAPHS</H3>"
   ]
  },
  {
   "cell_type": "markdown",
   "metadata": {},
   "source": [
    "<H3>MAGNITUDE ANALYSIS</H3>"
   ]
  },
  {
   "cell_type": "code",
   "execution_count": 13,
   "metadata": {},
   "outputs": [
    {
     "data": {
      "text/html": [
       "<div>\n",
       "<style scoped>\n",
       "    .dataframe tbody tr th:only-of-type {\n",
       "        vertical-align: middle;\n",
       "    }\n",
       "\n",
       "    .dataframe tbody tr th {\n",
       "        vertical-align: top;\n",
       "    }\n",
       "\n",
       "    .dataframe thead th {\n",
       "        text-align: right;\n",
       "    }\n",
       "</style>\n",
       "<table border=\"1\" class=\"dataframe\">\n",
       "  <thead>\n",
       "    <tr style=\"text-align: right;\">\n",
       "      <th></th>\n",
       "      <th>STEP</th>\n",
       "      <th>STD</th>\n",
       "      <th>MEAN</th>\n",
       "    </tr>\n",
       "  </thead>\n",
       "  <tbody>\n",
       "    <tr>\n",
       "      <th>0</th>\n",
       "      <td>1</td>\n",
       "      <td>16.565068</td>\n",
       "      <td>2.114399</td>\n",
       "    </tr>\n",
       "    <tr>\n",
       "      <th>1</th>\n",
       "      <td>2</td>\n",
       "      <td>16.345384</td>\n",
       "      <td>2.154252</td>\n",
       "    </tr>\n",
       "    <tr>\n",
       "      <th>2</th>\n",
       "      <td>3</td>\n",
       "      <td>16.096505</td>\n",
       "      <td>2.157311</td>\n",
       "    </tr>\n",
       "    <tr>\n",
       "      <th>3</th>\n",
       "      <td>4</td>\n",
       "      <td>16.112537</td>\n",
       "      <td>1.964546</td>\n",
       "    </tr>\n",
       "    <tr>\n",
       "      <th>4</th>\n",
       "      <td>5</td>\n",
       "      <td>15.653337</td>\n",
       "      <td>2.048311</td>\n",
       "    </tr>\n",
       "    <tr>\n",
       "      <th>...</th>\n",
       "      <td>...</td>\n",
       "      <td>...</td>\n",
       "      <td>...</td>\n",
       "    </tr>\n",
       "    <tr>\n",
       "      <th>373</th>\n",
       "      <td>374</td>\n",
       "      <td>11.567783</td>\n",
       "      <td>1.092457</td>\n",
       "    </tr>\n",
       "    <tr>\n",
       "      <th>374</th>\n",
       "      <td>375</td>\n",
       "      <td>11.568529</td>\n",
       "      <td>1.101143</td>\n",
       "    </tr>\n",
       "    <tr>\n",
       "      <th>375</th>\n",
       "      <td>376</td>\n",
       "      <td>11.572756</td>\n",
       "      <td>1.089467</td>\n",
       "    </tr>\n",
       "    <tr>\n",
       "      <th>376</th>\n",
       "      <td>377</td>\n",
       "      <td>11.560885</td>\n",
       "      <td>1.099161</td>\n",
       "    </tr>\n",
       "    <tr>\n",
       "      <th>377</th>\n",
       "      <td>378</td>\n",
       "      <td>11.570136</td>\n",
       "      <td>1.085609</td>\n",
       "    </tr>\n",
       "  </tbody>\n",
       "</table>\n",
       "<p>378 rows × 3 columns</p>\n",
       "</div>"
      ],
      "text/plain": [
       "     STEP        STD      MEAN\n",
       "0       1  16.565068  2.114399\n",
       "1       2  16.345384  2.154252\n",
       "2       3  16.096505  2.157311\n",
       "3       4  16.112537  1.964546\n",
       "4       5  15.653337  2.048311\n",
       "..    ...        ...       ...\n",
       "373   374  11.567783  1.092457\n",
       "374   375  11.568529  1.101143\n",
       "375   376  11.572756  1.089467\n",
       "376   377  11.560885  1.099161\n",
       "377   378  11.570136  1.085609\n",
       "\n",
       "[378 rows x 3 columns]"
      ]
     },
     "execution_count": 13,
     "metadata": {},
     "output_type": "execute_result"
    }
   ],
   "source": [
    "METRIC"
   ]
  },
  {
   "cell_type": "code",
   "execution_count": 14,
   "metadata": {},
   "outputs": [],
   "source": [
    "#METRIC CALCULATIONS\n",
    "#mean = S[[\"STEP\",\"IMAG\"]].groupby('STEP').mean().reset_index()\n",
    "#mean = METRIC[[\"STEP\",\"RES\"]].groupby('STEP').mean().reset_index()\n",
    "#std = METRIC[[\"STEP\",\"RES\"]].groupby('STEP').std().reset_index()\n",
    "#std = S[[\"STEP\",\"IMAG\"]].groupby('STEP').std().reset_index()\n"
   ]
  },
  {
   "cell_type": "code",
   "execution_count": 14,
   "metadata": {},
   "outputs": [],
   "source": [
    "%matplotlib qt\n",
    "graphic()\n",
    "plt.plot(METRIC.STEP,METRIC.MEAN,label=(\"MEAN\"))\n",
    "plt.plot(METRIC.STEP,METRIC.STD,label=(\"STD\"))\n",
    "plt.title(\"Inter-agent Aggregated Magnitude\")\n",
    "plt.legend()\n",
    "plt.xlabel(\"Time Step\")\n",
    "plt.ylabel(\"Magnitude ($\\mu_p(S)$,$\\sigma_p(S)$)\")\n",
    "plt.show()"
   ]
  },
  {
   "cell_type": "code",
   "execution_count": 15,
   "metadata": {},
   "outputs": [],
   "source": [
    "%matplotlib qt\n",
    "graphic()\n",
    "plt.errorbar(METRIC.STEP,METRIC.MEAN,METRIC.STD,label='Cohesion magnitude',ecolor='red',color='black')\n",
    "#plt.title(\"Inter-agent Aggregated Magnitude\")\n",
    "plt.title(\"Inter-agent Aggregated Magnitude\\n%s\\nrb=%s kr=%s kc=%s\\nT=%s A=%s cb=%s speed=%s kg=%s rgf=%s\"%(name[0],jsonrb,jsonkr,jsonkc,jsonT,jsonA,jsoncb,jsonspeed,jsonkg,jsonrgf))\n",
    "plt.legend()\n",
    "plt.grid()\n",
    "plt.xlabel(\"Time Step\")\n",
    "plt.ylabel(\"Magnitude $\\psi_p(S)$\")\n",
    "plt.tight_layout()\n",
    "plt.show()"
   ]
  },
  {
   "cell_type": "markdown",
   "metadata": {},
   "source": [
    "<H3>DISTANCE ANALYSIS</H3>"
   ]
  },
  {
   "cell_type": "code",
   "execution_count": 16,
   "metadata": {},
   "outputs": [],
   "source": [
    "CPP=C[[\"STEP\",\"PID\",\"PX\",\"PY\",\"NID\",\"NX\",\"NY\",\"PPERIM\",\"NPERIM\",\"MAG\",\"DIST\"]].query(\"PPERIM==True and NPERIM==True\")\n",
    "CIP=C[[\"STEP\",\"PID\",\"PX\",\"PY\",\"NID\",\"NX\",\"NY\",\"PPERIM\",\"NPERIM\",\"MAG\",\"DIST\"]].query(\"(PPERIM==False and NPERIM==True)\")\n",
    "CPI=C[[\"STEP\",\"PID\",\"PX\",\"PY\",\"NID\",\"NX\",\"NY\",\"PPERIM\",\"NPERIM\",\"MAG\",\"DIST\"]].query(\"(PPERIM==True and NPERIM==False)\")\n",
    "CII=C[[\"STEP\",\"PID\",\"PX\",\"PY\",\"NID\",\"NX\",\"NY\",\"PPERIM\",\"NPERIM\",\"MAG\",\"DIST\"]].query(\"PPERIM==False and NPERIM==False\")\n",
    "\n",
    "\n",
    "PPMEAN = CPP[[\"STEP\",\"DIST\"]].groupby('STEP').mean().reset_index()\n",
    "PIMEAN = CPI[[\"STEP\",\"DIST\"]].groupby('STEP').mean().reset_index()\n",
    "IPMEAN = CIP[[\"STEP\",\"DIST\"]].groupby('STEP').mean().reset_index()\n",
    "IIMEAN = CII[[\"STEP\",\"DIST\"]].groupby('STEP').mean().reset_index()\n",
    "\n",
    "PPSTD = CPP[[\"STEP\",\"DIST\"]].groupby('STEP').std().reset_index()\n",
    "IPSTD = CIP[[\"STEP\",\"DIST\"]].groupby('STEP').std().reset_index()\n",
    "PISTD = CPI[[\"STEP\",\"DIST\"]].groupby('STEP').std().reset_index()\n",
    "IISTD = CII[[\"STEP\",\"DIST\"]].groupby('STEP').std().reset_index()"
   ]
  },
  {
   "cell_type": "code",
   "execution_count": 17,
   "metadata": {},
   "outputs": [],
   "source": [
    "KNNII=6\n",
    "KNNPP=2\n",
    "KNNIP=1\n",
    "KNNPI=1\n",
    "\n",
    "KNNCPP = CPP.sort_values([\"STEP\",\"PID\",\"DIST\"], ascending=(True,True,True)).reset_index(drop=True)\n",
    "KNNCPP = KNNCPP.groupby(['STEP','PID']).head(KNNPP).reset_index(drop=True)\n",
    "\n",
    "KNNCPPMEAN = KNNCPP[[\"STEP\",\"DIST\"]].groupby('STEP').mean().reset_index()\n",
    "KNNCPPSTD = KNNCPP[[\"STEP\",\"DIST\"]].groupby('STEP').std().reset_index()\n",
    "\n",
    "KNNCIP = CIP.sort_values([\"STEP\",\"PID\",\"DIST\"], ascending=(True,True,True)).reset_index(drop=True)\n",
    "KNNCIP = KNNCIP.groupby(['STEP','PID']).head(KNNIP).reset_index(drop=True)\n",
    "\n",
    "KNNCIPMEAN = KNNCIP[[\"STEP\",\"DIST\"]].groupby('STEP').mean().reset_index()\n",
    "KNNCIPSTD = KNNCIP[[\"STEP\",\"DIST\"]].groupby('STEP').std().reset_index()\n",
    "\n",
    "KNNCPI = CPI.sort_values([\"STEP\",\"PID\",\"DIST\"], ascending=(True,True,True)).reset_index(drop=True)\n",
    "KNNCPI = KNNCPI.groupby(['STEP','PID']).head(KNNPI).reset_index(drop=True)\n",
    "\n",
    "KNNCPIMEAN = KNNCPI[[\"STEP\",\"DIST\"]].groupby('STEP').mean().reset_index()\n",
    "KNNCPISTD = KNNCPI[[\"STEP\",\"DIST\"]].groupby('STEP').std().reset_index()\n",
    "\n",
    "KNNCII=CII.sort_values([\"STEP\",\"PID\",\"DIST\"], ascending=(True,True,True)).reset_index(drop=True)\n",
    "KNNCII = KNNCII.groupby(['STEP','PID']).head(KNNII).reset_index(drop=True)\n",
    "\n",
    "KNNCIIMEAN = KNNCII[[\"STEP\",\"DIST\"]].groupby('STEP').mean().reset_index()\n",
    "KNNCIISTD = KNNCII[[\"STEP\",\"DIST\"]].groupby('STEP').std().reset_index()\n"
   ]
  },
  {
   "cell_type": "code",
   "execution_count": 19,
   "metadata": {},
   "outputs": [],
   "source": [
    "#KNN PLOT\n",
    "%matplotlib qt\n",
    "graphic()\n",
    "plt.plot(KNNCPPMEAN.STEP,KNNCPPMEAN.DIST,label=(\"P-P ($S_p$) \"),color=\"red\")\n",
    "plt.plot(KNNCIPMEAN.STEP,KNNCIPMEAN.DIST,label=(\"I-P ($S_{ip}$)\"),color=\"blue\")\n",
    "plt.plot(KNNCPIMEAN.STEP,KNNCPIMEAN.DIST,label=(\"P-I ($S_{pi}$)\"),color=\"green\")\n",
    "plt.plot(KNNCIIMEAN.STEP,KNNCIIMEAN.DIST,label=(\"I-I ($S_i$)\"),color=\"black\")\n",
    "#plt.title(\"Inter-agent Aggregated Distances\")\n",
    "plt.title(\"Inter-agent Aggregated Distances (KNN=(PP-%s,II-%s,IP-%s,PI-%s))\\n%s\\nrb=%s kr=%s kc=%s\\nT=%s A=%s cb=%s speed=%s kg=%s rgf=%s\"%(KNNPP,KNNII,KNNIP,KNNPI, name[0],jsonrb,jsonkr,jsonkc,jsonT,jsonA,jsoncb,jsonspeed,jsonkg,jsonrgf))\n",
    "plt.legend()\n",
    "plt.grid()\n",
    "plt.tight_layout()\n",
    "plt.xlabel(\"Time Step\")\n",
    "plt.ylabel(\"Distance\")\n",
    "plt.show()"
   ]
  },
  {
   "cell_type": "code",
   "execution_count": 21,
   "metadata": {},
   "outputs": [],
   "source": [
    "#KNN\n",
    "%matplotlib qt\n",
    "graphic()\n",
    "#markers, caps, bars = plt.errorbar(KNNCPPMEAN.STEP,KNNCPPMEAN.DIST,KNNCPPSTD.DIST,label='PP',color='red',ecolor='red')\n",
    "#[bar.set_alpha(0.05) for bar in bars]\n",
    "#[cap.set_alpha(0.15) for cap in caps]\n",
    "#markers, caps, bars = plt.errorbar(KNNCPIMEAN.STEP,KNNCPIMEAN.DIST,KNNCPISTD.DIST,label='PI',color='blue',ecolor='blue')\n",
    "#[bar.set_alpha(0.05) for bar in bars]\n",
    "#[cap.set_alpha(0.15) for cap in caps]\n",
    "#markers, caps, bars = plt.errorbar(KNNCIPMEAN.STEP,KNNCIPMEAN.DIST,KNNCIPSTD.DIST,label='IP',color='green',ecolor='green')\n",
    "#[bar.set_alpha(0.05) for bar in bars]\n",
    "#[cap.set_alpha(0.15) for cap in caps]\n",
    "markers, caps, bars = plt.errorbar(KNNCIIMEAN.STEP,KNNCIIMEAN.DIST,KNNCIISTD.DIST,label='II',color='black',ecolor='black')\n",
    "[bar.set_alpha(0.05) for bar in bars]\n",
    "#[cap.set_alpha(0.15) for cap in caps]\n",
    "plt.tight_layout()\n",
    "plt.title(\"Inter-agent Aggregated Distances (KNN=(PP-%s,II-%s,PI-%s,IP-%s))\\n%s\\nrb=%s kr=%s kc=%s\\nT=%s A=%s cb=%s speed=%s kg=%s rgf=%s\"%(KNNPP,KNNII,KNNPI,KNNIP,name[0],jsonrb,jsonkr,jsonkc,jsonT,jsonA,jsoncb,jsonspeed,jsonkg,jsonrgf))\n",
    "#plt.title(\"Inter-agent (I-P/P-I) Aggregated Distance\")\n",
    "plt.legend()\n",
    "plt.grid()\n",
    "plt.xlabel(\"Time Step\")\n",
    "plt.ylabel(\"Distance\")\n",
    "plt.show()"
   ]
  },
  {
   "cell_type": "code",
   "execution_count": 22,
   "metadata": {},
   "outputs": [
    {
     "ename": "NameError",
     "evalue": "name 'PERIMMEAN' is not defined",
     "output_type": "error",
     "traceback": [
      "\u001b[1;31m---------------------------------------------------------------------------\u001b[0m",
      "\u001b[1;31mNameError\u001b[0m                                 Traceback (most recent call last)",
      "\u001b[1;32m<ipython-input-22-af6b498d7d77>\u001b[0m in \u001b[0;36m<module>\u001b[1;34m\u001b[0m\n\u001b[0;32m      1\u001b[0m \u001b[0mget_ipython\u001b[0m\u001b[1;33m(\u001b[0m\u001b[1;33m)\u001b[0m\u001b[1;33m.\u001b[0m\u001b[0mrun_line_magic\u001b[0m\u001b[1;33m(\u001b[0m\u001b[1;34m'matplotlib'\u001b[0m\u001b[1;33m,\u001b[0m \u001b[1;34m'qt'\u001b[0m\u001b[1;33m)\u001b[0m\u001b[1;33m\u001b[0m\u001b[1;33m\u001b[0m\u001b[0m\n\u001b[0;32m      2\u001b[0m \u001b[0mgraph\u001b[0m\u001b[1;33m(\u001b[0m\u001b[1;33m)\u001b[0m\u001b[1;33m\u001b[0m\u001b[1;33m\u001b[0m\u001b[0m\n\u001b[1;32m----> 3\u001b[1;33m \u001b[0mplt\u001b[0m\u001b[1;33m.\u001b[0m\u001b[0mplot\u001b[0m\u001b[1;33m(\u001b[0m\u001b[0mPERIMMEAN\u001b[0m\u001b[1;33m.\u001b[0m\u001b[0mSTEP\u001b[0m\u001b[1;33m,\u001b[0m\u001b[0mPERIMMEAN\u001b[0m\u001b[1;33m.\u001b[0m\u001b[0mDIST\u001b[0m\u001b[1;33m,\u001b[0m\u001b[0mlabel\u001b[0m\u001b[1;33m=\u001b[0m\u001b[1;33m(\u001b[0m\u001b[1;34m\"P-P ($S_p$) \"\u001b[0m\u001b[1;33m)\u001b[0m\u001b[1;33m,\u001b[0m\u001b[0mcolor\u001b[0m\u001b[1;33m=\u001b[0m\u001b[1;34m\"red\"\u001b[0m\u001b[1;33m)\u001b[0m\u001b[1;33m\u001b[0m\u001b[1;33m\u001b[0m\u001b[0m\n\u001b[0m\u001b[0;32m      4\u001b[0m \u001b[0mplt\u001b[0m\u001b[1;33m.\u001b[0m\u001b[0mplot\u001b[0m\u001b[1;33m(\u001b[0m\u001b[0mIPPIMEAN\u001b[0m\u001b[1;33m.\u001b[0m\u001b[0mSTEP\u001b[0m\u001b[1;33m,\u001b[0m\u001b[0mIPPIMEAN\u001b[0m\u001b[1;33m.\u001b[0m\u001b[0mDIST\u001b[0m\u001b[1;33m,\u001b[0m\u001b[0mlabel\u001b[0m\u001b[1;33m=\u001b[0m\u001b[1;33m(\u001b[0m\u001b[1;34m\"I-P/P-I ($S_o$)\"\u001b[0m\u001b[1;33m)\u001b[0m\u001b[1;33m,\u001b[0m\u001b[0mcolor\u001b[0m\u001b[1;33m=\u001b[0m\u001b[1;34m\"blue\"\u001b[0m\u001b[1;33m)\u001b[0m\u001b[1;33m\u001b[0m\u001b[1;33m\u001b[0m\u001b[0m\n\u001b[0;32m      5\u001b[0m \u001b[0mplt\u001b[0m\u001b[1;33m.\u001b[0m\u001b[0mplot\u001b[0m\u001b[1;33m(\u001b[0m\u001b[0mIIMEAN\u001b[0m\u001b[1;33m.\u001b[0m\u001b[0mSTEP\u001b[0m\u001b[1;33m,\u001b[0m\u001b[0mIIMEAN\u001b[0m\u001b[1;33m.\u001b[0m\u001b[0mDIST\u001b[0m\u001b[1;33m,\u001b[0m\u001b[0mlabel\u001b[0m\u001b[1;33m=\u001b[0m\u001b[1;33m(\u001b[0m\u001b[1;34m\"I-I ($S_i$)\"\u001b[0m\u001b[1;33m)\u001b[0m\u001b[1;33m,\u001b[0m\u001b[0mcolor\u001b[0m\u001b[1;33m=\u001b[0m\u001b[1;34m\"black\"\u001b[0m\u001b[1;33m)\u001b[0m\u001b[1;33m\u001b[0m\u001b[1;33m\u001b[0m\u001b[0m\n",
      "\u001b[1;31mNameError\u001b[0m: name 'PERIMMEAN' is not defined"
     ]
    }
   ],
   "source": [
    "%matplotlib qt\n",
    "graph()\n",
    "plt.plot(PERIMMEAN.STEP,PERIMMEAN.DIST,label=(\"P-P ($S_p$) \"),color=\"red\")\n",
    "plt.plot(IPPIMEAN.STEP,IPPIMEAN.DIST,label=(\"I-P/P-I ($S_o$)\"),color=\"blue\")\n",
    "plt.plot(IIMEAN.STEP,IIMEAN.DIST,label=(\"I-I ($S_i$)\"),color=\"black\")\n",
    "#plt.title(\"Inter-agent Aggregated Distances\")\n",
    "plt.title(\"Inter-agent Aggregated Distances\\n%s\\nrb=%s kr=%s kc=%s\\nT=%s A=%s cb=%s speed=%s kg=%s rgf=%s\"%(name[0],jsonrb,jsonkr,jsonkc,jsonT,jsonA,jsoncb,jsonspeed,jsonkg,jsonrgf))\n",
    "plt.legend()\n",
    "plt.grid()\n",
    "plt.tight_layout()\n",
    "plt.xlabel(\"Time Step\")\n",
    "plt.ylabel(\"Distance\")\n",
    "plt.show()"
   ]
  },
  {
   "cell_type": "code",
   "execution_count": null,
   "metadata": {},
   "outputs": [
    {
     "ename": "NameError",
     "evalue": "name 'PERIMMEAN' is not defined",
     "output_type": "error",
     "traceback": [
      "\u001b[1;31m---------------------------------------------------------------------------\u001b[0m",
      "\u001b[1;31mNameError\u001b[0m                                 Traceback (most recent call last)",
      "\u001b[1;32m<ipython-input-27-5333a23830b5>\u001b[0m in \u001b[0;36m<module>\u001b[1;34m\u001b[0m\n\u001b[0;32m      1\u001b[0m \u001b[0mget_ipython\u001b[0m\u001b[1;33m(\u001b[0m\u001b[1;33m)\u001b[0m\u001b[1;33m.\u001b[0m\u001b[0mrun_line_magic\u001b[0m\u001b[1;33m(\u001b[0m\u001b[1;34m'matplotlib'\u001b[0m\u001b[1;33m,\u001b[0m \u001b[1;34m'inline'\u001b[0m\u001b[1;33m)\u001b[0m\u001b[1;33m\u001b[0m\u001b[1;33m\u001b[0m\u001b[0m\n\u001b[0;32m      2\u001b[0m \u001b[0mgraph\u001b[0m\u001b[1;33m(\u001b[0m\u001b[1;33m)\u001b[0m\u001b[1;33m\u001b[0m\u001b[1;33m\u001b[0m\u001b[0m\n\u001b[1;32m----> 3\u001b[1;33m \u001b[0mplt\u001b[0m\u001b[1;33m.\u001b[0m\u001b[0merrorbar\u001b[0m\u001b[1;33m(\u001b[0m\u001b[0mPERIMMEAN\u001b[0m\u001b[1;33m.\u001b[0m\u001b[0mSTEP\u001b[0m\u001b[1;33m,\u001b[0m\u001b[0mPERIMMEAN\u001b[0m\u001b[1;33m.\u001b[0m\u001b[0mDIST\u001b[0m\u001b[1;33m,\u001b[0m\u001b[0mPERIMSTD\u001b[0m\u001b[1;33m.\u001b[0m\u001b[0mDIST\u001b[0m\u001b[1;33m,\u001b[0m\u001b[0mlabel\u001b[0m\u001b[1;33m=\u001b[0m\u001b[1;34m'Distance'\u001b[0m\u001b[1;33m,\u001b[0m\u001b[0mecolor\u001b[0m\u001b[1;33m=\u001b[0m\u001b[1;34m'red'\u001b[0m\u001b[1;33m,\u001b[0m\u001b[0mcolor\u001b[0m\u001b[1;33m=\u001b[0m\u001b[1;34m'black'\u001b[0m\u001b[1;33m)\u001b[0m\u001b[1;33m\u001b[0m\u001b[1;33m\u001b[0m\u001b[0m\n\u001b[0m\u001b[0;32m      4\u001b[0m \u001b[0mplt\u001b[0m\u001b[1;33m.\u001b[0m\u001b[0mtight_layout\u001b[0m\u001b[1;33m(\u001b[0m\u001b[1;33m)\u001b[0m\u001b[1;33m\u001b[0m\u001b[1;33m\u001b[0m\u001b[0m\n\u001b[0;32m      5\u001b[0m \u001b[0mplt\u001b[0m\u001b[1;33m.\u001b[0m\u001b[0mtitle\u001b[0m\u001b[1;33m(\u001b[0m\u001b[1;34m\"Inter-agent Aggregated Distances ($S_p$)\\n%s\\nrb=%s kr=%s kc=%s\\nT=%s A=%s cb=%s speed=%s kg=%s rgf=%s\"\u001b[0m\u001b[1;33m%\u001b[0m\u001b[1;33m(\u001b[0m\u001b[0mname\u001b[0m\u001b[1;33m[\u001b[0m\u001b[1;36m0\u001b[0m\u001b[1;33m]\u001b[0m\u001b[1;33m,\u001b[0m\u001b[0mjsonrb\u001b[0m\u001b[1;33m,\u001b[0m\u001b[0mjsonkr\u001b[0m\u001b[1;33m,\u001b[0m\u001b[0mjsonkc\u001b[0m\u001b[1;33m,\u001b[0m\u001b[0mjsonT\u001b[0m\u001b[1;33m,\u001b[0m\u001b[0mjsonA\u001b[0m\u001b[1;33m,\u001b[0m\u001b[0mjsoncb\u001b[0m\u001b[1;33m,\u001b[0m\u001b[0mjsonspeed\u001b[0m\u001b[1;33m,\u001b[0m\u001b[0mjsonkg\u001b[0m\u001b[1;33m,\u001b[0m\u001b[0mjsonrgf\u001b[0m\u001b[1;33m)\u001b[0m\u001b[1;33m)\u001b[0m\u001b[1;33m\u001b[0m\u001b[1;33m\u001b[0m\u001b[0m\n",
      "\u001b[1;31mNameError\u001b[0m: name 'PERIMMEAN' is not defined"
     ]
    }
   ],
   "source": [
    "%matplotlib inline\n",
    "graph()\n",
    "plt.errorbar(PERIMMEAN.STEP,PERIMMEAN.DIST,PERIMSTD.DIST,label='Distance',ecolor='red',color='black')\n",
    "plt.tight_layout()\n",
    "plt.title(\"Inter-agent Aggregated Distances ($S_p$)\\n%s\\nrb=%s kr=%s kc=%s\\nT=%s A=%s cb=%s speed=%s kg=%s rgf=%s\"%(name[0],jsonrb,jsonkr,jsonkc,jsonT,jsonA,jsoncb,jsonspeed,jsonkg,jsonrgf))\n",
    "#plt.title(\"Inter-agent (I-I) Aggregated Distance\")\n",
    "plt.legend()\n",
    "plt.grid()\n",
    "plt.xlabel(\"Time Step\")\n",
    "plt.ylabel(\"Distance\")\n",
    "plt.show()"
   ]
  },
  {
   "cell_type": "code",
   "execution_count": null,
   "metadata": {},
   "outputs": [],
   "source": [
    "%matplotlib inline\n",
    "graph()\n",
    "plt.errorbar(IPPIMEAN.STEP,IPPIMEAN.DIST,IPPISTD.DIST,label='Distance',ecolor='red',color='black')\n",
    "plt.tight_layout()\n",
    "plt.title(\"Inter-agent Aggregated Distances ($S_o$)\\n%s\\nrb=%s kr=%s kc=%s\\nT=%s A=%s cb=%s speed=%s kg=%s rgf=%s\"%(name[0],jsonrb,jsonkr,jsonkc,jsonT,jsonA,jsoncb,jsonspeed,jsonkg,jsonrgf))\n",
    "#plt.title(\"Inter-agent (I-P/P-I) Aggregated Distance\")\n",
    "plt.legend()\n",
    "plt.grid()\n",
    "plt.xlabel(\"Time Step\")\n",
    "plt.ylabel(\"Distance\")\n",
    "plt.show()"
   ]
  },
  {
   "cell_type": "code",
   "execution_count": null,
   "metadata": {},
   "outputs": [
    {
     "data": {
      "image/png": "[encoded data removed]",
      "text/plain": [
       "<Figure size 432x288 with 1 Axes>"
      ]
     },
     "metadata": {
      "needs_background": "light"
     },
     "output_type": "display_data"
    }
   ],
   "source": [
    "%matplotlib inline\n",
    "graphic()\n",
    "plt.errorbar(IIMEAN.STEP,IIMEAN.DIST,IISTD.DIST,label='Distance',ecolor='red',color='black')\n",
    "plt.tight_layout()\n",
    "plt.title(\"Inter-agent Aggregated Distances ($S_i$)\\n%s\\nrb=%s kr=%s kc=%s\\nT=%s A=%s cb=%s speed=%s kg=%s rgf=%s\"%(name[0],jsonrb,jsonkr,jsonkc,jsonT,jsonA,jsoncb,jsonspeed,jsonkg,jsonrgf))\n",
    "#plt.title(\"Inter-agent (P-P) Aggregated Distance\")\n",
    "plt.legend()\n",
    "plt.grid()\n",
    "plt.xlabel(\"Time Step\")\n",
    "plt.ylabel(\"Distance\")\n",
    "plt.show()"
   ]
  },
  {
   "cell_type": "markdown",
   "metadata": {},
   "source": [
    "<H3>SWARM ANIMATION</H3>"
   ]
  },
  {
   "cell_type": "code",
   "execution_count": 23,
   "metadata": {},
   "outputs": [],
   "source": [
    "%matplotlib qt\n",
    "from matplotlib import animation\n",
    "from matplotlib.animation import FuncAnimation\n",
    "\n",
    "loop = S.STEP.max()\n",
    "# GET GRAPH DISPLAY LIMITS SO IT FITS NICELY\n",
    "xLimMin = S.X.min() \n",
    "xLimMax = S.X.max()\n",
    "yLimMin = S.Y.min()\n",
    "yLimMax = S.Y.max()\n",
    "\n",
    "graph()\n",
    "fig = plt.figure()\n",
    "plt.xlim(xLimMin,xLimMax)\n",
    "plt.ylim(yLimMin,yLimMax)\n",
    "plt.grid()\n",
    "plt.gca().set_aspect(\"equal\")\n",
    "PLOT=S[[\"STEP\",\"ID\",\"X\",\"Y\"]].query(\"STEP==%d\" % 1)\n",
    "#COHESION=C[[\"STEP\",\"PX\",\"PY\",\"NX\",\"NY\",]].query(\"STEP==%d\" % 1)\n",
    "#COHESIONP=C[[\"STEP\",\"PX\",\"PY\",\"NX\",\"NY\",\"PPERIM\",\"NPERIM\"]].query(\"PPERIM==True and NPERIM==True and STEP==%d\" % 1)\n",
    "scat = plt.scatter(PLOT[\"X\"],PLOT[\"Y\"],s=10,color=\"green\")\n",
    "plt.title('[rb=%s cb=%s kr=%s kc=%s T=%s A=%s speed=%s]\\n[kg=%s]\\nTime (s): 1'%(jsonrb,jsoncb,jsonkr,jsonkc,jsonT,jsonA,jsonspeed,jsonkg))\n",
    "\n",
    "def animate(i):\n",
    "    PLOT=S[[\"STEP\",\"ID\",\"X\",\"Y\"]].query(\"STEP==%d\" % i)\n",
    "    scat.set_offsets(np.c_[PLOT[\"X\"],PLOT[\"Y\"]])\n",
    "    plt.title('[rb=%s cb=%s kr=%s kc=%s T=%s A=%s speed=%s]\\n[kg=%s]\\nTime (s): %d or %d' % (jsonrb,jsoncb,jsonkr,jsonkc,jsonT,jsonA,jsonspeed,jsonkg,i+1,loop))\n",
    "\n",
    "anim = FuncAnimation(fig, animate, interval=10, frames=loop, repeat=True)\n",
    "plt.draw() \n",
    "\n"
   ]
  },
  {
   "cell_type": "code",
   "execution_count": null,
   "metadata": {},
   "outputs": [],
   "source": []
  }
 ],
 "metadata": {
  "interpreter": {
   "hash": "058cd4d169c4921e4d7ed593a865c6696f20d63934827a5ea460cf923500fd23"
  },
  "kernelspec": {
   "display_name": "Python 3.8.5 64-bit ('base': conda)",
   "name": "python3"
  },
  "language_info": {
   "codemirror_mode": {
    "name": "ipython",
    "version": 3
   },
   "file_extension": ".py",
   "mimetype": "text/x-python",
   "name": "python",
   "nbconvert_exporter": "python",
   "pygments_lexer": "ipython3",
   "version": "3.8.8"
  }
 },
 "nbformat": 4,
 "nbformat_minor": 2
}
